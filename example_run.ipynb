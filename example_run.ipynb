{
 "cells": [
  {
   "cell_type": "code",
   "execution_count": 2,
   "id": "ea06fb00",
   "metadata": {},
   "outputs": [
    {
     "name": "stdout",
     "output_type": "stream",
     "text": [
      " * Serving Flask app 'app'\n",
      " * Debug mode: off\n"
     ]
    },
    {
     "name": "stderr",
     "output_type": "stream",
     "text": [
      "\u001b[31m\u001b[1mWARNING: This is a development server. Do not use it in a production deployment. Use a production WSGI server instead.\u001b[0m\n",
      " * Running on http://127.0.0.1:5000\n",
      "\u001b[33mPress CTRL+C to quit\u001b[0m\n",
      "127.0.0.1 - - [20/Apr/2025 21:19:35] \"GET / HTTP/1.1\" 200 -\n"
     ]
    }
   ],
   "source": [
    "import subprocess\n",
    "server = subprocess.Popen([\"python\", \"app.py\"])"
   ]
  },
  {
   "cell_type": "code",
   "execution_count": 4,
   "id": "25bb63d8",
   "metadata": {},
   "outputs": [],
   "source": [
    "server.kill()"
   ]
  },
  {
   "cell_type": "code",
   "execution_count": null,
   "id": "75b29b31",
   "metadata": {},
   "outputs": [
    {
     "name": "stdout",
     "output_type": "stream",
     "text": [
      "{'features': {'num1': 3.0, 'num2': 4.0}, 'prediction': 1}\n"
     ]
    }
   ],
   "source": [
    "import requests\n",
    "res = requests.get(\"http://127.0.0.1:8000/api/v1.0/predict?num1=3&num2=4\")\n",
    "print(res.json())  # Powinno zwrócić {\"features\": {\"num1\": 3.0, \"num2\": 4.0}, \"prediction\": 1}"
   ]
  }
 ],
 "metadata": {
  "kernelspec": {
   "display_name": ".rta-venv",
   "language": "python",
   "name": "python3"
  },
  "language_info": {
   "codemirror_mode": {
    "name": "ipython",
    "version": 3
   },
   "file_extension": ".py",
   "mimetype": "text/x-python",
   "name": "python",
   "nbconvert_exporter": "python",
   "pygments_lexer": "ipython3",
   "version": "3.13.1"
  }
 },
 "nbformat": 4,
 "nbformat_minor": 5
}
